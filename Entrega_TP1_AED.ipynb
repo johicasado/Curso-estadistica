{
  "nbformat": 4,
  "nbformat_minor": 0,
  "metadata": {
    "colab": {
      "provenance": [],
      "toc_visible": true,
      "include_colab_link": true
    },
    "kernelspec": {
      "name": "python3",
      "display_name": "Python 3"
    },
    "language_info": {
      "name": "python"
    }
  },
  "cells": [
    {
      "cell_type": "markdown",
      "metadata": {
        "id": "view-in-github",
        "colab_type": "text"
      },
      "source": [
        "<a href=\"https://colab.research.google.com/github/johicasado/Curso-estadistica/blob/main/Johanna_Casado_Entrega_TP1_AED.ipynb\" target=\"_parent\"><img src=\"https://colab.research.google.com/assets/colab-badge.svg\" alt=\"Open In Colab\"/></a>"
      ]
    },
    {
      "cell_type": "markdown",
      "source": [
        "\n",
        "<img src=https://www.iteda.cnea.gov.ar/sites/default/files/garland_iteda_logo.png align='left' height=115>\n",
        "\n",
        "<img src=https://www.facet.unt.edu.ar/facetinforma/wp-content/uploads/sites/9/2015/11/it-OP1-Transparente.png align='right' height=115>"
      ],
      "metadata": {
        "id": "3AdbLmEJkgJj"
      }
    },
    {
      "cell_type": "markdown",
      "source": [
        "---\n",
        "---\n",
        "  \n",
        "# Análisis Estadístico de Datos - 2023\n",
        "\n",
        "* **Profesor**: Diego Ravignani Guerrero\n",
        "* **JTP**: Ezequiel Enrique Rodriguez \n",
        "\n"
      ],
      "metadata": {
        "id": "vNeE23OUxoV-"
      }
    },
    {
      "cell_type": "markdown",
      "source": [
        "---\n",
        "---\n",
        "## Trabajo Práctico 1 - Probabilidad Discreta\n",
        "---\n",
        "---"
      ],
      "metadata": {
        "id": "Zg9lwEk6kpac"
      }
    },
    {
      "cell_type": "markdown",
      "source": [
        "Simular dos variables aleatorias $X_1$ y $X_2$ que siguen distribuciones de Poisson con parametros $\\mu_1 = 1$ y $\\mu_2 = 2$ respectivamente. Calcular la variable $Y = X_1 + X_2$. Repetir la simulación 1000 veces. Graficar la distribución de la variable $Y$ y comparar con una distribución de probabilidad adecuada."
      ],
      "metadata": {
        "id": "ajYPsUaPItbl"
      }
    },
    {
      "cell_type": "markdown",
      "source": [
        "---\n",
        "### **Resolución**"
      ],
      "metadata": {
        "id": "xh53BOBYkNqU"
      }
    },
    {
      "cell_type": "code",
      "source": [],
      "metadata": {
        "id": "UsI8FR2KkwLT"
      },
      "execution_count": null,
      "outputs": []
    }
  ]
}
